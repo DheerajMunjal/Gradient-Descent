{
 "cells": [
  {
   "cell_type": "code",
   "execution_count": 75,
   "metadata": {},
   "outputs": [],
   "source": [
    "import numpy as np \n",
    "from sklearn import preprocessing "
   ]
  },
  {
   "cell_type": "code",
   "execution_count": 76,
   "metadata": {},
   "outputs": [
    {
     "data": {
      "text/plain": [
       "array([[-0.40784991, -0.48772236, -1.2660231 , ...,  0.41057102,\n",
       "        -1.09799011, 37.9       ],\n",
       "       [-0.40737368, -0.48772236,  0.24705682, ...,  0.29116915,\n",
       "        -0.52047412, 21.4       ],\n",
       "       [ 0.1251786 , -0.48772236,  1.01599907, ..., -3.79579542,\n",
       "         0.89107588, 12.7       ],\n",
       "       ...,\n",
       "       [-0.40831101, -0.48772236,  0.24705682, ...,  0.33206621,\n",
       "        -0.33404299, 20.8       ],\n",
       "       [-0.41061997, -0.48772236, -1.15221381, ...,  0.203235  ,\n",
       "        -0.74475218, 22.6       ],\n",
       "       [ 0.34290895, -0.48772236,  1.01599907, ...,  0.38787479,\n",
       "        -1.35871335, 50.        ]])"
      ]
     },
     "execution_count": 76,
     "metadata": {},
     "output_type": "execute_result"
    }
   ],
   "source": [
    "data_train=np.genfromtxt(\"training_boston_x_y_train.csv\",delimiter=',')\n",
    "data_train"
   ]
  },
  {
   "cell_type": "code",
   "execution_count": 77,
   "metadata": {},
   "outputs": [
    {
     "data": {
      "text/plain": [
       "array([[ 2.91816626, -0.48772236,  1.01599907, ...,  0.80657583,\n",
       "        -1.59755122,  1.04106182],\n",
       "       [-0.40339151, -0.48772236,  0.40609801, ..., -1.13534664,\n",
       "         0.44105193, -0.89473812],\n",
       "       [-0.4131781 , -0.48772236,  0.11573841, ...,  1.17646583,\n",
       "         0.44105193, -0.50084979],\n",
       "       ...,\n",
       "       [-0.41001449,  2.08745172, -1.37837329, ..., -0.0719129 ,\n",
       "         0.39094481, -0.68167397],\n",
       "       [-0.40317611, -0.48772236, -0.37597609, ...,  1.13022958,\n",
       "         0.34007019,  0.20142086],\n",
       "       [-0.13356344, -0.48772236,  1.2319449 , ..., -1.73641788,\n",
       "        -2.93893082,  0.48877712]])"
      ]
     },
     "execution_count": 77,
     "metadata": {},
     "output_type": "execute_result"
    }
   ],
   "source": [
    "data_test=np.genfromtxt(\"test_boston_x_test.csv\",delimiter=',')\n",
    "data_test"
   ]
  },
  {
   "cell_type": "code",
   "execution_count": 78,
   "metadata": {},
   "outputs": [
    {
     "name": "stdout",
     "output_type": "stream",
     "text": [
      "(379, 14)\n",
      "(127, 13)\n"
     ]
    }
   ],
   "source": [
    "print(data_train.shape)\n",
    "print(data_test.shape)"
   ]
  },
  {
   "cell_type": "code",
   "execution_count": 30,
   "metadata": {},
   "outputs": [],
   "source": [
    "#x_train=data_train[:,:-1]\n",
    "#x_train.shape"
   ]
  },
  {
   "cell_type": "code",
   "execution_count": 31,
   "metadata": {},
   "outputs": [],
   "source": [
    "#y_train=data_train[:,-1]\n",
    "#y_train.shape"
   ]
  },
  {
   "cell_type": "code",
   "execution_count": 24,
   "metadata": {},
   "outputs": [
    {
     "data": {
      "text/plain": [
       "array([[-0.40098068, -0.49042688, -1.28149216, ..., -0.32264241,\n",
       "         0.42027996, -1.10095452],\n",
       "       [-0.40053396, -0.49042688,  0.20753471, ...,  0.09391068,\n",
       "         0.30257958, -0.53143278],\n",
       "       [ 0.09900799, -0.49042688,  0.96425328, ...,  0.78816582,\n",
       "        -3.72614514,  0.86057789],\n",
       "       ...,\n",
       "       [-0.40141319, -0.49042688,  0.20753471, ...,  0.09391068,\n",
       "         0.34289385, -0.34758231],\n",
       "       [-0.40357903, -0.49042688, -1.16949207, ..., -0.7391955 ,\n",
       "         0.21589851, -0.75260628],\n",
       "       [ 0.30324229, -0.49042688,  0.96425328, ...,  0.78816582,\n",
       "         0.39790715, -1.35806871]])"
      ]
     },
     "execution_count": 24,
     "metadata": {},
     "output_type": "execute_result"
    }
   ],
   "source": [
    "#scaler=preprocessing.StandardScaler()\n",
    "#scaler.fit(x_train)\n",
    "#scaler.transform(x_train)"
   ]
  },
  {
   "cell_type": "code",
   "execution_count": 79,
   "metadata": {},
   "outputs": [],
   "source": [
    "def predict(x,m,c):\n",
    "    N = x.shape[0]\n",
    "    y=np.zeros(N)\n",
    "    \n",
    "    for i in range(N):\n",
    "        X=x[i,:]\n",
    "        y[i] = (m * X).sum() + c\n",
    "    return y"
   ]
  },
  {
   "cell_type": "code",
   "execution_count": 80,
   "metadata": {},
   "outputs": [],
   "source": [
    "def step_gradient(points, learning_rate, M):\n",
    "    N=points.shape[0] #no. of rows \n",
    "    num_col=points.shape[1] #no. of columns \n",
    "    new_M=np.zeros(num_col)\n",
    "    for i in range(N):\n",
    "        x = points[i, 0:num_col-1]\n",
    "        x=np.append(x,1) # \n",
    "        #print(x.shape) #array extra column of 1 \n",
    "        y = points[i, num_col-1]\n",
    "        for j in range(num_col):\n",
    "            new_M[j] += (-2/N)*(y - (M * x).sum()) * x[j]\n",
    "        M = M - (learning_rate*new_M)\n",
    "    return M"
   ]
  },
  {
   "cell_type": "code",
   "execution_count": 81,
   "metadata": {},
   "outputs": [],
   "source": [
    "def gd(points, learning_rate, num_iterations):\n",
    "    num_col=points.shape[1] # giving rows\n",
    "    M=np.zeros(num_col)\n",
    "    for i in range(num_iterations):\n",
    "        M = step_gradient(points, learning_rate,M)\n",
    "    print(i, \" Cost: \", cost(points, M))\n",
    "    return M"
   ]
  },
  {
   "cell_type": "code",
   "execution_count": 82,
   "metadata": {},
   "outputs": [],
   "source": [
    "def cost(points,M):\n",
    "    total_cost = 0\n",
    "    N=points.shape[0] #rows\n",
    "    num_col=points.shape[1] #columns\n",
    "    for i in range(N):\n",
    "        x=points[i,0:num_col-1]\n",
    "        x=np.append(x,1)\n",
    "        y=points[i,num_col-1]\n",
    "        total_cost += (y- (M * x).sum()) ** 2\n",
    "    total_cost = (1/N) * total_cost\n",
    "    return total_cost "
   ]
  },
  {
   "cell_type": "code",
   "execution_count": 83,
   "metadata": {},
   "outputs": [],
   "source": [
    "def run():\n",
    "    learning_rate = 0.00001\n",
    "    num_iterations = 1000\n",
    "    m= gd(data_train, learning_rate, num_iterations)\n",
    "    #y_pred=predict(data_test,m,c)\n",
    "    return m[0:13], m[13]\n",
    "    \n",
    "  "
   ]
  },
  {
   "cell_type": "code",
   "execution_count": 84,
   "metadata": {},
   "outputs": [
    {
     "name": "stdout",
     "output_type": "stream",
     "text": [
      "999  Cost:  25.571325690101485\n",
      "[-0.84556523  0.40130442 -0.82525659  0.76445869 -0.65678052  3.2496442\n",
      "  0.210736   -1.49828066  0.79231793 -0.36078684 -1.54200284  0.66263159\n",
      " -3.58986573] 22.013737506684336\n"
     ]
    }
   ],
   "source": [
    "m,c=run()\n",
    "print(m,c)"
   ]
  },
  {
   "cell_type": "code",
   "execution_count": 85,
   "metadata": {},
   "outputs": [],
   "source": [
    "test_data = np.genfromtxt(\"test_boston_x_test.csv\", delimiter = \",\")"
   ]
  },
  {
   "cell_type": "code",
   "execution_count": 86,
   "metadata": {},
   "outputs": [],
   "source": [
    "from sklearn.ensemble import GradientBoostingRegressor"
   ]
  },
  {
   "cell_type": "code",
   "execution_count": 87,
   "metadata": {},
   "outputs": [
    {
     "data": {
      "text/plain": [
       "(379, 13)"
      ]
     },
     "execution_count": 87,
     "metadata": {},
     "output_type": "execute_result"
    }
   ],
   "source": [
    "x_train=data_train[:,:-1]\n",
    "x_train.shape"
   ]
  },
  {
   "cell_type": "code",
   "execution_count": 88,
   "metadata": {},
   "outputs": [
    {
     "data": {
      "text/plain": [
       "(379,)"
      ]
     },
     "execution_count": 88,
     "metadata": {},
     "output_type": "execute_result"
    }
   ],
   "source": [
    "y_train=data_train[:,-1]\n",
    "y_train.shape"
   ]
  },
  {
   "cell_type": "code",
   "execution_count": 89,
   "metadata": {},
   "outputs": [],
   "source": [
    "#scaler=preprocessing.StandardScaler()\n",
    "#scaler.fit(x_train)\n",
    "#scaler.transform(x_train)"
   ]
  },
  {
   "cell_type": "code",
   "execution_count": 90,
   "metadata": {},
   "outputs": [
    {
     "data": {
      "text/plain": [
       "GradientBoostingRegressor(alpha=0.9, criterion='friedman_mse', init=None,\n",
       "                          learning_rate=0.1, loss='ls', max_depth=3,\n",
       "                          max_features=None, max_leaf_nodes=None,\n",
       "                          min_impurity_decrease=0.0, min_impurity_split=None,\n",
       "                          min_samples_leaf=1, min_samples_split=2,\n",
       "                          min_weight_fraction_leaf=0.0, n_estimators=100,\n",
       "                          n_iter_no_change=None, presort='auto',\n",
       "                          random_state=None, subsample=1.0, tol=0.0001,\n",
       "                          validation_fraction=0.1, verbose=0, warm_start=False)"
      ]
     },
     "execution_count": 90,
     "metadata": {},
     "output_type": "execute_result"
    }
   ],
   "source": [
    "reg=GradientBoostingRegressor()\n",
    "reg.fit(x_train,y_train)"
   ]
  },
  {
   "cell_type": "code",
   "execution_count": 98,
   "metadata": {},
   "outputs": [],
   "source": [
    "y_pred=predict(test_data,m,c)"
   ]
  },
  {
   "cell_type": "code",
   "execution_count": 99,
   "metadata": {},
   "outputs": [
    {
     "data": {
      "text/plain": [
       "array([ 9.36458138, 27.28636875, 21.91923176, 23.25353665, 20.65089313,\n",
       "        2.9891675 , 28.17890497, 23.44309366, 18.60911878, 22.15868737,\n",
       "       24.00497038, 18.42077799, 19.56131075, 21.0051007 , 41.75677689,\n",
       "       23.31769034, 22.98050169, 26.62449631, 19.76582152, 30.97168641,\n",
       "       23.082548  , 22.30301218, 31.55165339, 33.88068576, 31.6927709 ,\n",
       "       14.09781081, 21.17698184, 30.922773  , 22.92632988, 32.26887677,\n",
       "       17.84738273, 24.23811396, 23.58171369, 25.00655168, 14.75966483,\n",
       "       27.85326534, 25.19738794, 20.45011688, 23.58309134,  9.83820425,\n",
       "        4.89568442, 27.04454058, 28.40533968, 20.24754439, 19.52958177,\n",
       "        1.25643133, 39.89081685, 25.45984426, 30.79493094, 17.40223121,\n",
       "       16.76562868, 38.73355419, 18.16958608, 19.97054367, 16.77201583,\n",
       "       21.10877228, 18.07249456, 21.95402325, 14.39021031, 17.22138929,\n",
       "       13.90725075, 28.32332977, 24.0622698 , 25.07200831, 16.06425072,\n",
       "       14.47392181, 33.7315911 , 17.25734212, 24.38846247, 21.25980121,\n",
       "       28.22614382, 24.6305388 , 18.05444736,  4.18272112, 35.25457029,\n",
       "       24.52212888, 27.69549703, 25.30014203, 15.56867379, 32.08882673,\n",
       "       19.45506191, 22.88627655, 22.27884788,  9.00561108, 17.48001353,\n",
       "       29.89621316, 26.97678717,  4.78992256, 18.6782849 , 19.2180825 ,\n",
       "       20.57480223, 20.38918009, 20.47102262, 13.84028296, 19.96463217,\n",
       "       26.71428811, 39.00691371, 16.78307886, 32.34294981, 25.58851062,\n",
       "       25.61470428, 21.93090558, 23.94843374, 29.5631637 , 17.46566236,\n",
       "       24.6612267 , 21.11024728, 36.45069158, 22.27454243, 16.21384185,\n",
       "       27.12801923, -2.07578039, 13.74194136, 13.88885169, 35.57347387,\n",
       "       20.73661919, 22.35424304, 23.95905522, 21.34002759, 18.58216255,\n",
       "       14.69574762, 32.56404338, 21.28172398, 22.52548896, 20.09283559,\n",
       "       20.44076912, 14.45231028])"
      ]
     },
     "execution_count": 99,
     "metadata": {},
     "output_type": "execute_result"
    }
   ],
   "source": [
    "y_pred"
   ]
  },
  {
   "cell_type": "code",
   "execution_count": 112,
   "metadata": {},
   "outputs": [
    {
     "data": {
      "text/plain": [
       "22.059263368548823"
      ]
     },
     "execution_count": 112,
     "metadata": {},
     "output_type": "execute_result"
    }
   ],
   "source": [
    "y_pred.mean()"
   ]
  },
  {
   "cell_type": "code",
   "execution_count": 95,
   "metadata": {},
   "outputs": [],
   "source": [
    "#for i in range (0,len(y_pred)):\n",
    "#    y_pred[i]=\"{0:.8f}\".format(float(y_pred[i]))\n",
    "#    print(y_pred[i])"
   ]
  },
  {
   "cell_type": "code",
   "execution_count": 109,
   "metadata": {},
   "outputs": [],
   "source": [
    "np.savetxt(\"finalPredictions4.csv\",y_pred,delimiter=',')"
   ]
  }
 ],
 "metadata": {
  "kernelspec": {
   "display_name": "Python 3",
   "language": "python",
   "name": "python3"
  },
  "language_info": {
   "codemirror_mode": {
    "name": "ipython",
    "version": 3
   },
   "file_extension": ".py",
   "mimetype": "text/x-python",
   "name": "python",
   "nbconvert_exporter": "python",
   "pygments_lexer": "ipython3",
   "version": "3.7.4"
  }
 },
 "nbformat": 4,
 "nbformat_minor": 2
}
